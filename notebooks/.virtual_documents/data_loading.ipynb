


# Load libraries

# for data wrangling
import pandas as pd 
import numpy as np 

# for price API
from urllib.request import urlopen
import certifi
import json

# web scraping
import requests
from bs4 import BeautifulSoup











def get_jsonparsed_data(url):
    response = urlopen(url, cafile=certifi.where())
    data = response.read().decode("utf-8")
    return json.loads(data)

url = ("https://financialmodelingprep.com/api/v3/quote/KEUSX?apikey="+fmp_api_key)
print(get_jsonparsed_data(url))


fmp_api_key = pd.read_table(r'../../FMP_api_key')


fmp_api_key = fmp_api_key['key'][0]








import requests

url = "https://www.coface.com/news-economy-and-insights/business-risk-dashboard/country-risk-files/australia"
response = requests.get(url)
response

soup = BeautifulSoup("https://www.coface.com/news-economy-and-insights/business-risk-dashboard/country-risk-files/australia")
print(soup.prettify())






